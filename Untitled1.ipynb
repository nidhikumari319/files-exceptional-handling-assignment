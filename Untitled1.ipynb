{
  "nbformat": 4,
  "nbformat_minor": 0,
  "metadata": {
    "colab": {
      "provenance": [],
      "authorship_tag": "ABX9TyPuyOmzYDPmob+Yu1wr3tRB",
      "include_colab_link": true
    },
    "kernelspec": {
      "name": "python3",
      "display_name": "Python 3"
    },
    "language_info": {
      "name": "python"
    }
  },
  "cells": [
    {
      "cell_type": "markdown",
      "metadata": {
        "id": "view-in-github",
        "colab_type": "text"
      },
      "source": [
        "<a href=\"https://colab.research.google.com/github/nidhikumari319/files-exceptional-handling-assignment/blob/main/Untitled1.ipynb\" target=\"_parent\"><img src=\"https://colab.research.google.com/assets/colab-badge.svg\" alt=\"Open In Colab\"/></a>"
      ]
    },
    {
      "cell_type": "markdown",
      "source": [
        "#  1. Discuss the scenarios where multithreading is preferable to multiprocessing and scenarios where multiprocessing is a better choice.\n",
        "\n",
        "\n"
      ],
      "metadata": {
        "id": "k8Bm55PO20Aa"
      }
    },
    {
      "cell_type": "markdown",
      "source": [
        "ans:\n",
        "Multithreading: Best for I/O-bound tasks like reading and writing files, downloading data from the internet, or handling user input/output. In these cases, tasks spend more time waiting for input/output than using CPU, so multiple threads work well.\n",
        "\n",
        "\n",
        "Multiprocessing: Best for CPU-bound tasks where the program uses a lot of CPU, like mathematical calculations, data analysis, or image processing. Each process runs independently on separate CPU cores, allowing more efficient use of resources.\n"
      ],
      "metadata": {
        "id": "cQZttplg3BC6"
      }
    },
    {
      "cell_type": "markdown",
      "source": [
        "#2. Describe what a process pool is and how it helps in managing multiple processes efficiently."
      ],
      "metadata": {
        "id": "3GldpKj33VI1"
      }
    },
    {
      "cell_type": "markdown",
      "source": [
        "ans:\n",
        "A process pool is a group of worker processes that can run tasks in parallel. Using a pool, we can assign tasks to these processes without creating a new process for each task, which saves memory and reduces overhead.\n",
        "\n",
        "Benefits: It’s efficient, especially when you have many tasks, as the pool manages process creation and termination automatically."
      ],
      "metadata": {
        "id": "pUXn7_Wr3bA7"
      }
    },
    {
      "cell_type": "markdown",
      "source": [
        "#3. Explain what multiprocessing is and why it is used in Python programs."
      ],
      "metadata": {
        "id": "jFwbGHKn3rEO"
      }
    },
    {
      "cell_type": "markdown",
      "source": [
        "ans:\n",
        "Multiprocessing is a way to run multiple parts of a program at once by using multiple CPU cores. Python’s multiprocessing module helps achieve this.\n",
        "\n",
        "Why Use It:\n",
        "\n",
        "It’s useful in Python to overcome the Global Interpreter Lock (GIL) limitation, which prevents multiple threads from running at once. By using separate processes, we can achieve true parallelism."
      ],
      "metadata": {
        "id": "dN3iYPDp3uG0"
      }
    },
    {
      "cell_type": "markdown",
      "source": [
        "#4. Write a Python program using multithreading where one thread adds numbers to a list, and another thread removes numbers from the list. Implement a mechanism to avoid race conditions using threading.Lock."
      ],
      "metadata": {
        "id": "ajVAvSA83-RW"
      }
    },
    {
      "cell_type": "code",
      "source": [
        "import threading\n",
        "import time\n",
        "\n",
        "numbers = []\n",
        "lock = threading.Lock()\n",
        "\n",
        "def add_numbers():\n",
        "    for i in range(5):\n",
        "        time.sleep(1)\n",
        "        with lock:\n",
        "            numbers.append(i)\n",
        "            print(f\"Added {i}, List: {numbers}\")\n",
        "\n",
        "def remove_numbers():\n",
        "    for i in range(5):\n",
        "        time.sleep(1.5)\n",
        "        with lock:\n",
        "            if numbers:\n",
        "                removed = numbers.pop(0)\n",
        "                print(f\"Removed {removed}, List: {numbers}\")\n",
        "\n",
        "thread1 = threading.Thread(target=add_numbers)\n",
        "thread2 = threading.Thread(target=remove_numbers)\n",
        "\n",
        "thread1.start()\n",
        "thread2.start()\n",
        "\n",
        "thread1.join()\n",
        "thread2.join()\n"
      ],
      "metadata": {
        "colab": {
          "base_uri": "https://localhost:8080/"
        },
        "id": "ixgodnTQ4cRd",
        "outputId": "fc8feb1d-a42c-4ae3-e938-8490a793fa81"
      },
      "execution_count": 1,
      "outputs": [
        {
          "output_type": "stream",
          "name": "stdout",
          "text": [
            "Added 0, List: [0]\n",
            "Removed 0, List: []\n",
            "Added 1, List: [1]\n",
            "Added 2, List: [1, 2]\n",
            "Removed 1, List: [2]\n",
            "Added 3, List: [2, 3]\n",
            "Removed 2, List: [3]\n",
            "Added 4, List: [3, 4]\n",
            "Removed 3, List: [4]\n",
            "Removed 4, List: []\n"
          ]
        }
      ]
    },
    {
      "cell_type": "markdown",
      "source": [
        "#5. Describe the methods and tools available in Python for safely sharing data between threads and processes."
      ],
      "metadata": {
        "id": "S6j2c4QF4ySo"
      }
    },
    {
      "cell_type": "markdown",
      "source": [
        "ans:\n",
        "\n",
        "For Threads:\n",
        "\n",
        "\n",
        "threading.Lock: Prevents race conditions by ensuring only one thread accesses a resource at a time.\n",
        "\n",
        "threading.RLock: Similar to Lock, but can be acquired multiple times by the same thread.\n",
        "\n",
        "Queues: Python’s queue.Queue is thread-safe and helps safely exchange data between threads.\n",
        "\n",
        "For Processes:\n",
        "\n",
        "\n",
        "multiprocessing.Queue: Allows safe sharing of data across processes.\n",
        "\n",
        "multiprocessing.Manager: Provides shared data structures like lists and dictionaries that multiple processes can access safely.\n",
        "\n",
        "Value and Array: Shared memory variables in the multiprocessing module."
      ],
      "metadata": {
        "id": "aiUauyhF46Um"
      }
    },
    {
      "cell_type": "markdown",
      "source": [
        "#6. Discuss why it’s crucial to handle exceptions in concurrent programs and the techniques available for doing so."
      ],
      "metadata": {
        "id": "VoaRt8ZT5QA6"
      }
    },
    {
      "cell_type": "markdown",
      "source": [
        "ans:\n",
        "\n",
        "Why It’s Important:\n",
        "\n",
        "\n",
        "In concurrent programs, exceptions in one thread or process can cause silent failures or unwanted program behavior, affecting other threads or processes.\n",
        "\n",
        "Techniques:\n",
        "\n",
        "\n",
        "Try-Except Blocks: Use them around code that may fail to capture exceptions.\n",
        "\n",
        "Futures in concurrent.futures: Provides result() which raises exceptions if a task fails, helping handle them properly.\n",
        "\n",
        "Error Callbacks in Multiprocessing: Assign an error-handling function to handle errors in multiprocessing."
      ],
      "metadata": {
        "id": "8nRqZbz85V7R"
      }
    },
    {
      "cell_type": "markdown",
      "source": [
        "#7. Create a program that uses a thread pool to calculate the factorial of numbers from 1 to 10 concurrently. Use concurrent.futures.ThreadPoolExecutor to manage the threads."
      ],
      "metadata": {
        "id": "UBvprzpp5rbC"
      }
    },
    {
      "cell_type": "code",
      "execution_count": 2,
      "metadata": {
        "id": "I70xDWmXEqxz",
        "colab": {
          "base_uri": "https://localhost:8080/"
        },
        "outputId": "35712fd8-003f-40e7-a890-ea681af18c32"
      },
      "outputs": [
        {
          "output_type": "stream",
          "name": "stdout",
          "text": [
            "Factorial of 1 is 1\n",
            "Factorial of 2 is 2\n",
            "Factorial of 3 is 6\n",
            "Factorial of 4 is 24\n",
            "Factorial of 5 is 120\n",
            "Factorial of 6 is 720\n",
            "Factorial of 7 is 5040\n",
            "Factorial of 8 is 40320\n",
            "Factorial of 9 is 362880\n",
            "Factorial of 10 is 3628800\n"
          ]
        }
      ],
      "source": [
        "from concurrent.futures import ThreadPoolExecutor\n",
        "import math\n",
        "\n",
        "def factorial(n):\n",
        "    return math.factorial(n)\n",
        "\n",
        "with ThreadPoolExecutor() as executor:\n",
        "    results = executor.map(factorial, range(1, 11))\n",
        "    for i, result in enumerate(results, start=1):\n",
        "        print(f\"Factorial of {i} is {result}\")\n"
      ]
    },
    {
      "cell_type": "markdown",
      "source": [
        "#8. Create a Python program that uses multiprocessing.Pool to compute the square of numbers from 1 to 10 inparallel. Measure the time taken to perform this computation using a pool of different sizes (e.g., 2, 4 processes).   "
      ],
      "metadata": {
        "id": "PuDo7cN76BVx"
      }
    },
    {
      "cell_type": "code",
      "source": [
        "import multiprocessing\n",
        "import time\n",
        "\n",
        "def square(n):\n",
        "    return n * n\n",
        "\n",
        "for pool_size in [2, 4, 8]:\n",
        "    start_time = time.perf_counter()\n",
        "    with multiprocessing.Pool(pool_size) as pool:\n",
        "        results = pool.map(square, range(1, 11))\n",
        "        print(f\"Results with pool size {pool_size}: {results}\")\n",
        "    end_time = time.perf_counter()\n",
        "    print(f\"Time taken with pool size {pool_size}: {end_time - start_time:.2f} seconds\")\n"
      ],
      "metadata": {
        "colab": {
          "base_uri": "https://localhost:8080/"
        },
        "id": "Bk6zBpuK547B",
        "outputId": "1145c168-fc84-463d-8b12-f094cffd5d6d"
      },
      "execution_count": 3,
      "outputs": [
        {
          "output_type": "stream",
          "name": "stdout",
          "text": [
            "Results with pool size 2: [1, 4, 9, 16, 25, 36, 49, 64, 81, 100]\n",
            "Time taken with pool size 2: 0.09 seconds\n",
            "Results with pool size 4: [1, 4, 9, 16, 25, 36, 49, 64, 81, 100]\n",
            "Time taken with pool size 4: 0.09 seconds\n",
            "Results with pool size 8: [1, 4, 9, 16, 25, 36, 49, 64, 81, 100]\n",
            "Time taken with pool size 8: 0.15 seconds\n"
          ]
        }
      ]
    },
    {
      "cell_type": "code",
      "source": [],
      "metadata": {
        "id": "gh7QO_q66Ulf"
      },
      "execution_count": null,
      "outputs": []
    }
  ]
}